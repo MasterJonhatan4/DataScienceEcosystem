{
 "cells": [
  {
   "cell_type": "markdown",
   "id": "1f292523",
   "metadata": {},
   "source": [
    "# Data Science Tools and Ecosystem"
   ]
  },
  {
   "cell_type": "markdown",
   "id": "56d4fa49",
   "metadata": {},
   "source": [
    "### **Objectives:**\n",
    "* List popular languages for Data Science\n",
    "* List commonly used libraries used by Data Scientists\n",
    "* List some Data Science Tools"
   ]
  },
  {
   "cell_type": "markdown",
   "id": "503864f5",
   "metadata": {},
   "source": [
    "## In this notebook, Data Science Tools and Ecosystem are summarized."
   ]
  },
  {
   "cell_type": "markdown",
   "id": "9883f287",
   "metadata": {},
   "source": [
    "### Some of the popular languages that Data Scientists use are:\n",
    "1. R\n",
    "2. Python \n",
    "3. Julia"
   ]
  },
  {
   "cell_type": "markdown",
   "id": "6af4827a",
   "metadata": {},
   "source": [
    "### Some of the commonly used libraries used by Data Scientists include:\n",
    "1. NumPy\n",
    "2. Pandas\n",
    "3. Matploblib"
   ]
  },
  {
   "cell_type": "markdown",
   "id": "1a5c351c",
   "metadata": {},
   "source": [
    "| Data Science Tools |\n",
    "| ----------------- |\n",
    "| Jupyter Notebook  |\n",
    "| RStudio           |\n",
    "| Anaconda          |\n"
   ]
  },
  {
   "cell_type": "markdown",
   "id": "09e55485",
   "metadata": {},
   "source": [
    "### Below are a few examples of evaluating arithmetic expressions in Python"
   ]
  },
  {
   "cell_type": "code",
   "execution_count": 9,
   "id": "310aa0fb",
   "metadata": {},
   "outputs": [
    {
     "data": {
      "text/plain": [
       "17"
      ]
     },
     "execution_count": 9,
     "metadata": {},
     "output_type": "execute_result"
    }
   ],
   "source": [
    "#This a simple arithmetic expression to mutiply then add integers\n",
    "(3*4)+5"
   ]
  },
  {
   "cell_type": "code",
   "execution_count": 10,
   "id": "1fe88d79",
   "metadata": {},
   "outputs": [
    {
     "data": {
      "text/plain": [
       "'200 min equal 3 hours and 20 minutes'"
      ]
     },
     "execution_count": 10,
     "metadata": {},
     "output_type": "execute_result"
    }
   ],
   "source": [
    "# This will convert 200 minutes to hours by diving by 60.\n",
    "x_min = 200 \n",
    "x_mod = x_min % 60\n",
    "x_hours = x_min / 60\n",
    "str(x_min) + \" min equal \"+ str(x_hour) + \" hours and \" + str(x_mod) + \" minutes\""
   ]
  },
  {
   "cell_type": "markdown",
   "id": "d773b802",
   "metadata": {},
   "source": [
    "## Author\n",
    "Raphael Lucifora"
   ]
  }
 ],
 "metadata": {
  "kernelspec": {
   "display_name": "Python 3 (ipykernel)",
   "language": "python",
   "name": "python3"
  },
  "language_info": {
   "codemirror_mode": {
    "name": "ipython",
    "version": 3
   },
   "file_extension": ".py",
   "mimetype": "text/x-python",
   "name": "python",
   "nbconvert_exporter": "python",
   "pygments_lexer": "ipython3",
   "version": "3.10.9"
  }
 },
 "nbformat": 4,
 "nbformat_minor": 5
}
